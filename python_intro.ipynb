{
 "cells": [
  {
   "cell_type": "markdown",
   "id": "formed-heather",
   "metadata": {},
   "source": [
    "# Introduction to Python and Jupyter Notebook"
   ]
  },
  {
   "cell_type": "markdown",
   "id": "dedicated-pizza",
   "metadata": {},
   "source": [
    "**Material Cycles in Floodplain Systems · Seminar 1 (3 Nov 2021) · Jian Peng, Miguel Mahecha · WS 2021/2022**\\\n",
    "Feel free to contact [Toni Schmidt](mailto:toni.schmidt@ufz.de) or [Marco Hannemann](mailto:marco.hannemann@ufz.de) if you have questions or need help."
   ]
  },
  {
   "cell_type": "markdown",
   "id": "skilled-cannon",
   "metadata": {},
   "source": [
    "## 1—Motivation"
   ]
  },
  {
   "cell_type": "markdown",
   "id": "caroline-thompson",
   "metadata": {},
   "source": [
    "**[Jupyter Notebook](https://jupyter.org)** is an online live editor which can be used for different programming languages including Python. Every Jupyter Notebook is made up of cells which among others can comprise code or text. The code can be [compiled](https://www.webopedia.com/definitions/compilation/) directly in the notebook, which makes it a way to work with Python effectively. There are [helpful tutorials](https://realpython.com/jupyter-notebook-introduction/) that explain how to use Jupyter Notebooks."
   ]
  },
  {
   "cell_type": "markdown",
   "id": "worthy-gathering",
   "metadata": {},
   "source": [
    "There are [many reasons](https://www.datacamp.com/community/blog/python-scientific-computing-case) why choosing **[Python](https://www.python.org/doc/essays/blurb/)** for scientific programming. In a nutshell, it has its advantages in easy code writing and performance. A growing community is constantly working on improving external libraries."
   ]
  },
  {
   "cell_type": "markdown",
   "id": "undefined-architect",
   "metadata": {},
   "source": [
    "**[NetCDF](https://www.unidata.ucar.edu/software/netcdf/)** is a data file format commonly used for [array](https://www.w3schools.com/python/python_arrays.asp)-oriented scientific data. As science is all about working with data, it is important to know how to work with this very handy data format. During this seminar we will be working with netCDF files of different data products (e.g. soil moisture, evaporation, or precipitation)."
   ]
  },
  {
   "cell_type": "markdown",
   "id": "sunset-interest",
   "metadata": {},
   "source": [
    "## 2—Modules"
   ]
  },
  {
   "cell_type": "markdown",
   "id": "violent-aside",
   "metadata": {},
   "source": [
    "**Modules** are Python files that define **functions** which are needed to sufficiently work with data. **Package installers** are required to install and manage modules. For Python **``pip``** is an established package installer."
   ]
  },
  {
   "cell_type": "markdown",
   "id": "further-anderson",
   "metadata": {},
   "source": [
    "Firstly, we use ``pip`` to determine which libraries are already installed using the command ``pip list``."
   ]
  },
  {
   "cell_type": "code",
   "execution_count": null,
   "id": "perceived-award",
   "metadata": {
    "scrolled": false
   },
   "outputs": [],
   "source": [
    "pip list"
   ]
  },
  {
   "cell_type": "markdown",
   "id": "romantic-january",
   "metadata": {},
   "source": [
    "To work with netCDF files, we need to install a module that comprises functions to read netCDF files. There are different modules that can be used (e.g. ``h5py``, ``netCDF4``, or ``xarray``). During the seminar we use **``xarray``** due to its convenient implication of working with netCDF files. To install ``xarray`` we would use the command ``pip install xarray``. As another module is required to use ``xarray``, we also need to install ``netCDF4`` by ``pip install xarray netcdf4``. Afterwards we need to restart the kernel."
   ]
  },
  {
   "cell_type": "code",
   "execution_count": null,
   "id": "skilled-little",
   "metadata": {
    "scrolled": false,
    "tags": []
   },
   "outputs": [],
   "source": [
    "pip install xarray netcdf4"
   ]
  },
  {
   "cell_type": "markdown",
   "id": "gross-maryland",
   "metadata": {},
   "source": [
    "In Python, modules need to be **imported** to use their functions. To do so we use the command ``import <module>``. Additionally, we are capable of allocating short **[aliases](https://www.digitalocean.com/community/tutorials/how-to-import-modules-in-python-3#aliasing-modules)** to modules using ``import <module> as <alias>`` in order to make coding easier and the code more readable. For standard libraries there are common aliases, e.g. ``xr`` for ``xarray``."
   ]
  },
  {
   "cell_type": "code",
   "execution_count": null,
   "id": "harmful-being",
   "metadata": {
    "scrolled": false
   },
   "outputs": [],
   "source": [
    "import xarray as xr"
   ]
  },
  {
   "cell_type": "markdown",
   "id": "southwest-bibliography",
   "metadata": {},
   "source": [
    "## 3—Functions"
   ]
  },
  {
   "cell_type": "markdown",
   "id": "presidential-stations",
   "metadata": {},
   "source": [
    "### 3.1—Buit-in functions"
   ]
  },
  {
   "cell_type": "markdown",
   "id": "incoming-report",
   "metadata": {},
   "source": [
    "Python comes with many **[built-in functions](https://www.w3schools.com/python/python_ref_functions.asp)** which do not require to import a module. Two very important built-in functions are **``help()``** and **``print()``**. To help yourself use ``help(<function>)`` to retrieve all information needed to use the respective function. If you want to print a message to the screen use ``print()``. As Jupyter Notebook is based on [IPython](https://ipython.org), ``print()`` is not necessarily needed to print a message, instead a function or a variable can just be called right away. When using Python outside a Jupyter Notebook, ``print()`` is always necessary to print a message."
   ]
  },
  {
   "cell_type": "markdown",
   "id": "intelligent-profit",
   "metadata": {},
   "source": [
    "### 3.2—External functions"
   ]
  },
  {
   "cell_type": "markdown",
   "id": "stupid-causing",
   "metadata": {},
   "source": [
    "To apply **functions** that come with modules, we use the **[dot notation](https://www.askpython.com/python/built-in-methods/dot-notation)** by calling the module name or its alias and the function name separated by a dot, e.g. ``xr.open_dataset(<file_path>)`` to import data stored in a netCDF file. To work on with the data, it is appropriate to assign it to a **[variable](https://www.w3schools.com/python/python_variables.asp)**."
   ]
  },
  {
   "cell_type": "code",
   "execution_count": null,
   "id": "chicken-beauty",
   "metadata": {
    "scrolled": false
   },
   "outputs": [],
   "source": [
    "gleam = xr.open_dataset(\"data/gleam_europe_monmean_reduced.nc\")"
   ]
  },
  {
   "cell_type": "markdown",
   "id": "pregnant-delhi",
   "metadata": {},
   "source": [
    "## 4—NetCDF files"
   ]
  },
  {
   "cell_type": "markdown",
   "id": "useful-jonathan",
   "metadata": {},
   "source": [
    "### 4.1—Structure"
   ]
  },
  {
   "cell_type": "markdown",
   "id": "cleared-destiny",
   "metadata": {},
   "source": [
    "Now that we have assigned the output of ``xr.open_dataset()`` to the variable ``gleam``, we can have a look at its **variable content** using ``print(gleam)``."
   ]
  },
  {
   "cell_type": "code",
   "execution_count": null,
   "id": "under-philippines",
   "metadata": {
    "scrolled": false
   },
   "outputs": [],
   "source": [
    "print(gleam)"
   ]
  },
  {
   "cell_type": "markdown",
   "id": "genuine-dover",
   "metadata": {},
   "source": [
    "Coming back to the benefits of IPython and Jupyter, there is a smarter way to look at the content by simply calling the variable name now without ``print()``."
   ]
  },
  {
   "cell_type": "code",
   "execution_count": null,
   "id": "amateur-latest",
   "metadata": {
    "scrolled": false
   },
   "outputs": [],
   "source": [
    "gleam"
   ]
  },
  {
   "cell_type": "markdown",
   "id": "balanced-asian",
   "metadata": {},
   "source": [
    "The [**dimensions**](https://www.unidata.ucar.edu/software/netcdf/docs/group__dimensions.html) represent the **shape** of the data array and can be accessed directly using ``gleam.dims``."
   ]
  },
  {
   "cell_type": "code",
   "execution_count": null,
   "id": "eastern-ivory",
   "metadata": {},
   "outputs": [],
   "source": [
    "gleam.dims"
   ]
  },
  {
   "cell_type": "markdown",
   "id": "marine-conversion",
   "metadata": {},
   "source": [
    "The [**coordinates**](https://www.unidata.ucar.edu/software/netcdf/workshops/2010/datamodels/NcCVars.html) can be accessed directly using ``gleam.coords``."
   ]
  },
  {
   "cell_type": "code",
   "execution_count": null,
   "id": "fuzzy-array",
   "metadata": {},
   "outputs": [],
   "source": [
    "gleam.coords"
   ]
  },
  {
   "cell_type": "markdown",
   "id": "found-cardiff",
   "metadata": {},
   "source": [
    "The **data variables** of the netCDF can be accessed directly using ``gleam.data_vars``."
   ]
  },
  {
   "cell_type": "code",
   "execution_count": null,
   "id": "loose-scholar",
   "metadata": {
    "scrolled": true
   },
   "outputs": [],
   "source": [
    "gleam.data_vars"
   ]
  },
  {
   "cell_type": "markdown",
   "id": "logical-celtic",
   "metadata": {},
   "source": [
    "The [**attributes**](https://www.unidata.ucar.edu/software/netcdf/docs/group__attributes.html) of the netCDF file hold the **metadata** and can be accessed directly using ``gleam.attrs``."
   ]
  },
  {
   "cell_type": "code",
   "execution_count": null,
   "id": "august-candy",
   "metadata": {},
   "outputs": [],
   "source": [
    "gleam.attrs"
   ]
  },
  {
   "cell_type": "markdown",
   "id": "fifth-collector",
   "metadata": {},
   "source": [
    "There are many **[data types](https://www.w3schools.com/python/python_datatypes.asp)** used in Python. The output above is a [dictionary](https://www.w3schools.com/python/python_dictionaries.asp), which comprise data as key–value pairs. To get the **value** of a specific **key** we do ``dictionary[\"key\"]``. For instance, to get the initial year of the GLEAM data set, we run ``gleam.attrs[\"StartYear\"]``."
   ]
  },
  {
   "cell_type": "code",
   "execution_count": null,
   "id": "fancy-valve",
   "metadata": {
    "scrolled": false
   },
   "outputs": [],
   "source": [
    "gleam.attrs[\"StartYear\"]"
   ]
  },
  {
   "cell_type": "markdown",
   "id": "comfortable-slope",
   "metadata": {},
   "source": [
    "The retrieval of values of the **data variables** that are stored within the netCDF file is similar to retrieving values of keys in a dictionary."
   ]
  },
  {
   "cell_type": "code",
   "execution_count": null,
   "id": "happy-saying",
   "metadata": {},
   "outputs": [],
   "source": [
    "gleam[\"surface_soil_moisture\"]"
   ]
  },
  {
   "cell_type": "markdown",
   "id": "authorized-fraud",
   "metadata": {},
   "source": [
    "In order to work on with the variable content of ``surface_soil_moisture``, we assign it to a variable."
   ]
  },
  {
   "cell_type": "code",
   "execution_count": null,
   "id": "annual-soldier",
   "metadata": {},
   "outputs": [],
   "source": [
    "surface_soil_moisture = gleam[\"surface_soil_moisture\"]"
   ]
  },
  {
   "cell_type": "markdown",
   "id": "coupled-burst",
   "metadata": {},
   "source": [
    "### 4.2—Statistics"
   ]
  },
  {
   "cell_type": "markdown",
   "id": "protected-element",
   "metadata": {},
   "source": [
    "We can use statistical methods that come with ``xarray`` to derive values like **minimum** (``.min()``), **maximum** (``.max()``), **mean** (``.mean()``), or **standard deviation** (``.std()``)."
   ]
  },
  {
   "cell_type": "code",
   "execution_count": null,
   "id": "printable-virtue",
   "metadata": {
    "scrolled": false
   },
   "outputs": [],
   "source": [
    "surface_soil_moisture.min()"
   ]
  },
  {
   "cell_type": "code",
   "execution_count": null,
   "id": "addressed-circus",
   "metadata": {},
   "outputs": [],
   "source": [
    "surface_soil_moisture.max()"
   ]
  },
  {
   "cell_type": "code",
   "execution_count": null,
   "id": "chemical-vector",
   "metadata": {},
   "outputs": [],
   "source": [
    "surface_soil_moisture.mean()"
   ]
  },
  {
   "cell_type": "code",
   "execution_count": null,
   "id": "angry-disney",
   "metadata": {},
   "outputs": [],
   "source": [
    "surface_soil_moisture.std()"
   ]
  },
  {
   "cell_type": "markdown",
   "id": "posted-leave",
   "metadata": {},
   "source": [
    "## 5—Indexing and data selection"
   ]
  },
  {
   "cell_type": "markdown",
   "id": "authorized-preparation",
   "metadata": {},
   "source": [
    "### 5.1—Zero-based indexing"
   ]
  },
  {
   "cell_type": "markdown",
   "id": "biological-highlight",
   "metadata": {},
   "source": [
    "For most objectives is necessary to select parts of a data set. In Python, indexing is conventionally **zero-based**, i.e. we have to choose the zeroth element (``[0]``) in order to get the first element of a data set."
   ]
  },
  {
   "cell_type": "code",
   "execution_count": null,
   "id": "bibliographic-network",
   "metadata": {},
   "outputs": [],
   "source": [
    "surface_soil_moisture[0]"
   ]
  },
  {
   "cell_type": "markdown",
   "id": "divine-obligation",
   "metadata": {},
   "source": [
    "### 5.2—Data selection using ``xarray``"
   ]
  },
  {
   "cell_type": "markdown",
   "id": "affected-thanks",
   "metadata": {},
   "source": [
    "As seen above, we now have selected the first time point of the GLEAM data set, as its the first dimension of the array. **[Indexing and data selection](http://xarray.pydata.org/en/stable/user-guide/indexing.html)** with ``xarray`` is much more convenient as is holds methods to select and slice data more easily. For instance, we can **select data by coordinates** using [``.sel()``](http://xarray.pydata.org/en/stable/generated/xarray.Dataset.sel.html). We are capable of selecting surface soil moisture data for specific time points, latitude, or longitudes or select slices, which involve time ranges, latitude ranges, or longitude ranges."
   ]
  },
  {
   "cell_type": "code",
   "execution_count": null,
   "id": "assured-mailing",
   "metadata": {},
   "outputs": [],
   "source": [
    "surface_soil_moisture.sel(time=\"2018-08-16\")"
   ]
  },
  {
   "cell_type": "code",
   "execution_count": null,
   "id": "experimental-intent",
   "metadata": {},
   "outputs": [],
   "source": [
    "surface_soil_moisture.sel(time=slice(\"2018-01-01\",\"2019-12-31\"))"
   ]
  },
  {
   "cell_type": "code",
   "execution_count": null,
   "id": "variable-charge",
   "metadata": {},
   "outputs": [],
   "source": [
    "surface_soil_moisture.sel(lon=13.40, lat=52.52, method=\"nearest\")"
   ]
  },
  {
   "cell_type": "markdown",
   "id": "exotic-partnership",
   "metadata": {},
   "source": [
    "We can also **group data** using [``.groupby()``](http://xarray.pydata.org/en/stable/generated/xarray.Dataset.groupby.html). So called **[date/time components](https://pandas.pydata.org/pandas-docs/stable/reference/indexing.html#datetimeindex)** can be used to group the data set. For instance, we can do ``ssm.groupby(\"time.month\")`` to group the surface soil moisture data set into the months."
   ]
  },
  {
   "cell_type": "code",
   "execution_count": null,
   "id": "norman-boulder",
   "metadata": {},
   "outputs": [],
   "source": [
    "surface_soil_moisture_months = surface_soil_moisture.groupby(\"time.month\")\n",
    "surface_soil_moisture_months"
   ]
  },
  {
   "cell_type": "markdown",
   "id": "impossible-precipitation",
   "metadata": {},
   "source": [
    "This enables us to select the data month by month. If we want to select all data for January only, we can do ``surface_soil_moisture_months[1]``. Note that now the index is not zero-based but is related to the group labels."
   ]
  },
  {
   "cell_type": "code",
   "execution_count": null,
   "id": "working-entry",
   "metadata": {},
   "outputs": [],
   "source": [
    "surface_soil_moisture_months[1]"
   ]
  },
  {
   "cell_type": "markdown",
   "id": "computational-services",
   "metadata": {},
   "source": [
    "## 6—Plotting"
   ]
  },
  {
   "cell_type": "markdown",
   "id": "ideal-string",
   "metadata": {},
   "source": [
    "``xarray`` holds different methods to visualize data as can be seen in [this visualization gallery](http://xarray.pydata.org/en/stable/examples/visualization_gallery.html). We can use ``.plot()`` to plot a histogram of the surface soil moisture distribution over all dimensions."
   ]
  },
  {
   "cell_type": "code",
   "execution_count": null,
   "id": "complicated-coral",
   "metadata": {},
   "outputs": [],
   "source": [
    "surface_soil_moisture.plot()"
   ]
  },
  {
   "cell_type": "markdown",
   "id": "tracked-subsection",
   "metadata": {},
   "source": [
    "We can also use ``.plot()`` in order to plot the spatial distribution of mean surface soil moisture as a map."
   ]
  },
  {
   "cell_type": "code",
   "execution_count": null,
   "id": "loose-crown",
   "metadata": {},
   "outputs": [],
   "source": [
    "surface_soil_moisture_mean = surface_soil_moisture.mean(dim=\"time\")"
   ]
  },
  {
   "cell_type": "code",
   "execution_count": null,
   "id": "extreme-testing",
   "metadata": {},
   "outputs": [],
   "source": [
    "surface_soil_moisture_mean.plot()"
   ]
  },
  {
   "cell_type": "markdown",
   "id": "integral-istanbul",
   "metadata": {},
   "source": [
    "Alternatively, we can plot a time series of surface soil moisture of a specific location using ``.plot()`` too."
   ]
  },
  {
   "cell_type": "code",
   "execution_count": null,
   "id": "ancient-wedding",
   "metadata": {},
   "outputs": [],
   "source": [
    "surface_soil_moisture_berlin = surface_soil_moisture.sel(lon=13.40, lat=52.52, method=\"nearest\")"
   ]
  },
  {
   "cell_type": "code",
   "execution_count": null,
   "id": "conceptual-richards",
   "metadata": {},
   "outputs": [],
   "source": [
    "surface_soil_moisture_berlin.plot()"
   ]
  },
  {
   "cell_type": "markdown",
   "id": "asian-folks",
   "metadata": {},
   "source": [
    "## 7—More examples"
   ]
  },
  {
   "cell_type": "markdown",
   "id": "political-elite",
   "metadata": {},
   "source": [
    "So far we have used [**GLEAM**](https://www.gleam.eu) (Global Land Evaporation Amsterdam Model) for demonstations. In the following we have the chance to play around with other data sets, such as [**GPCP**](http://gpcp.umd.edu) (Global Precipitation Climatology Project) or [**MODIS Landcover**](https://modis.gsfc.nasa.gov/data/dataprod/mod12.php), where [MODIS](https://modis.gsfc.nasa.gov) is the satellite sensor *Moderate Resolution Imaging Spectroradiometer*."
   ]
  },
  {
   "cell_type": "markdown",
   "id": "downtown-citation",
   "metadata": {},
   "source": [
    "### 7.1—GPCP"
   ]
  },
  {
   "cell_type": "code",
   "execution_count": null,
   "id": "cordless-behavior",
   "metadata": {},
   "outputs": [],
   "source": [
    "# open data set\n",
    "gpcp = xr.open_dataset(\"data/GPCP__V2_3__PRECIP__2.5x2.5.nc\")"
   ]
  },
  {
   "cell_type": "code",
   "execution_count": null,
   "id": "round-antenna",
   "metadata": {},
   "outputs": [],
   "source": [
    "# look at data structure\n",
    "gpcp"
   ]
  },
  {
   "cell_type": "code",
   "execution_count": null,
   "id": "moving-deadline",
   "metadata": {},
   "outputs": [],
   "source": [
    "# assign precipitation to a variable\n",
    "precip = gpcp[\"precip\"]"
   ]
  },
  {
   "cell_type": "code",
   "execution_count": null,
   "id": "stuffed-trailer",
   "metadata": {},
   "outputs": [],
   "source": [
    "# group precipitation by seasons\n",
    "precip_seasons = precip.groupby(\"time.season\")"
   ]
  },
  {
   "cell_type": "code",
   "execution_count": null,
   "id": "vital-forwarding",
   "metadata": {},
   "outputs": [],
   "source": [
    "# look at groups\n",
    "precip_seasons"
   ]
  },
  {
   "cell_type": "code",
   "execution_count": null,
   "id": "identified-trainer",
   "metadata": {},
   "outputs": [],
   "source": [
    "# plot mean precipiation per latitude over time for summer (JJA)\n",
    "precip_seasons[\"JJA\"].mean(dim=\"lon\").plot()"
   ]
  },
  {
   "cell_type": "code",
   "execution_count": null,
   "id": "violent-sherman",
   "metadata": {},
   "outputs": [],
   "source": [
    "# plot mean precipiation per latitude over time for winter (DJF)\n",
    "precip_seasons[\"DJF\"].mean(dim=\"lon\").plot()"
   ]
  },
  {
   "cell_type": "markdown",
   "id": "developed-order",
   "metadata": {},
   "source": [
    "### 7.2—MODIS Landcover"
   ]
  },
  {
   "cell_type": "code",
   "execution_count": null,
   "id": "fundamental-empire",
   "metadata": {},
   "outputs": [],
   "source": [
    "# open data set\n",
    "modis = xr.open_dataset(\"data/modis_landcover_europe_2019.nc\")"
   ]
  },
  {
   "cell_type": "code",
   "execution_count": null,
   "id": "assumed-default",
   "metadata": {},
   "outputs": [],
   "source": [
    "# look at data structure\n",
    "modis"
   ]
  },
  {
   "cell_type": "code",
   "execution_count": null,
   "id": "global-chosen",
   "metadata": {},
   "outputs": [],
   "source": [
    "# assign landcover to a variable\n",
    "landcover = modis[\"landcover_igbp\"]"
   ]
  },
  {
   "cell_type": "code",
   "execution_count": null,
   "id": "powerful-hepatitis",
   "metadata": {},
   "outputs": [],
   "source": [
    "# group landcover by years\n",
    "landcover.groupby(\"time.years\")"
   ]
  },
  {
   "cell_type": "code",
   "execution_count": null,
   "id": "electrical-guard",
   "metadata": {},
   "outputs": [],
   "source": [
    "# plot landcover as a map\n",
    "landcover.plot(levels=20, cmap=\"terrain\")"
   ]
  },
  {
   "cell_type": "code",
   "execution_count": null,
   "id": "contrary-currency",
   "metadata": {},
   "outputs": [],
   "source": [
    "# select Spain\n",
    "landcover_spain = modis_landcover.sel(lon=slice(-10, 4), lat=slice(45, 35))"
   ]
  },
  {
   "cell_type": "code",
   "execution_count": null,
   "id": "speaking-corpus",
   "metadata": {},
   "outputs": [],
   "source": [
    "# plot landcover of Spain as a map\n",
    "landcover_spain.plot(levels=20, cmap=\"terrain\")"
   ]
  },
  {
   "cell_type": "markdown",
   "id": "fifth-depression",
   "metadata": {},
   "source": [
    "## Literature"
   ]
  },
  {
   "cell_type": "markdown",
   "id": "magnetic-quilt",
   "metadata": {},
   "source": [
    "- [DigitalOcean eBook: How To Code in Python](https://www.digitalocean.com/community/books/digitalocean-ebook-how-to-code-in-python?refcode=4d2af78748bd&utm_campaign=pythonebook&utm_medium=ebook&utm_source=ebook) → very good eBook introducing the Python basics\n",
    "- [W3Schools Python Tutorial](https://www.w3schools.com/python/default.asp) → short and comprehensible overview of Python basics"
   ]
  }
 ],
 "metadata": {
  "kernelspec": {
   "display_name": "Python 3",
   "language": "python",
   "name": "python3"
  },
  "language_info": {
   "codemirror_mode": {
    "name": "ipython",
    "version": 3
   },
   "file_extension": ".py",
   "mimetype": "text/x-python",
   "name": "python",
   "nbconvert_exporter": "python",
   "pygments_lexer": "ipython3",
   "version": "3.7.9"
  }
 },
 "nbformat": 4,
 "nbformat_minor": 5
}
